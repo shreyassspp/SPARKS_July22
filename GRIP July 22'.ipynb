{
 "cells": [
  {
   "cell_type": "markdown",
   "id": "496169f9",
   "metadata": {},
   "source": [
    "# Brief Overview of Events to follow in the notebook.\n",
    "\n",
    "\n",
    "## - Glance at global terrorism events from 1980-2017 identifying the hotspots and plotting the most common types of motives / reasons for attacks and losses borne by nations on the world map. \n",
    "#### (Geographical plotting is super cool)  \n",
    "\n",
    "## - Generic Trend of Events from across the years followed by a decade wise analysis on different metrics such as \n",
    "\n",
    "### a)Motives for attack, \n",
    "### b)Victims of attack, \n",
    "### c)Total damage caused. \n",
    "### d)Also try to find out the correlation between different types of causes and victims.\n",
    "\n",
    "## - At the end we will have a Case Study for comparing USA, Russia and India based on metrics \n",
    "### a)Frequency of events,\n",
    "### b)Types of victims, \n",
    "### c)Reasons for attacks \n",
    "### d)Losses borne by each nation.  "
   ]
  },
  {
   "cell_type": "code",
   "execution_count": null,
   "id": "c76660c5",
   "metadata": {},
   "outputs": [],
   "source": [
    "#Importing the Required Libraries\n",
    "import pandas as pd\n",
    "import numpy as np\n",
    "import matplotlib.pyplot as plt\n",
    "import seaborn as sns\n",
    "pd.options.mode.chained_assignment = None\n",
    "sns.set_style('whitegrid')"
   ]
  },
  {
   "cell_type": "code",
   "execution_count": null,
   "id": "4ec54eb1",
   "metadata": {},
   "outputs": [],
   "source": [
    "import chart_studio.plotly as py\n",
    "import plotly.graph_objs as go \n",
    "import cufflinks as cf\n",
    "from plotly.offline import download_plotlyjs,init_notebook_mode,plot,iplot\n",
    "init_notebook_mode(connected=True)\n",
    "cf.go_offline() #Allows to use cuffly offline."
   ]
  },
  {
   "cell_type": "code",
   "execution_count": null,
   "id": "0087ab91",
   "metadata": {},
   "outputs": [],
   "source": [
    "class color:\n",
    "   PURPLE = '\\033[95m'\n",
    "   CYAN = '\\033[96m'\n",
    "   DARKCYAN = '\\033[36m'\n",
    "   BLUE = '\\033[94m'\n",
    "   GREEN = '\\033[92m'\n",
    "   YELLOW = '\\033[93m'\n",
    "   RED = '\\033[91m'\n",
    "   BOLD = '\\033[1m'\n",
    "   UNDERLINE = '\\033[4m'\n",
    "   END = '\\033[0m'"
   ]
  },
  {
   "cell_type": "code",
   "execution_count": null,
   "id": "17e793e6",
   "metadata": {},
   "outputs": [],
   "source": [
    "#Reading the data into a Pandas Dataframe\n",
    "df = pd.read_csv('globalterrorismdb_0718dist.csv',encoding='ansi',low_memory=False)\n",
    "df=df[df['iyear']>=1980]\n",
    "\n",
    "df.replace({'country_txt':{\"Soviet Union\":\"Russia\"}},inplace=True)\n",
    "hues = ['attacktype1_txt','targtype1_txt']"
   ]
  },
  {
   "cell_type": "markdown",
   "id": "b7a24b0b",
   "metadata": {},
   "source": [
    "# Section 1 - Glancing at Global Terrorism Events and Identifying the hotspots"
   ]
  },
  {
   "cell_type": "code",
   "execution_count": null,
   "id": "a82fb71c",
   "metadata": {},
   "outputs": [],
   "source": [
    "def plotWorldMap(tempDF,reason=None):\n",
    "    ##Helper Function to Plot chloromap by different classifications.\n",
    "    if(reason=='Losses Borne'):\n",
    "        title=\"Amount in $\"\n",
    "    else:\n",
    "        title = \"Frequency of Events\"\n",
    "        \n",
    "    data = dict(type='choropleth',\n",
    "           locations=tempDF['index'],\n",
    "           z=tempDF['country_txt'],\n",
    "           locationmode='country names',\n",
    "           colorbar = {'title':title},\n",
    "           colorscale='Viridis',\n",
    "           reversescale=True)\n",
    "    \n",
    "    if(reason!=None):\n",
    "        reason=reason+\" Across Past 40 Years\"\n",
    "    else:\n",
    "        reason =\"Across Past 40 Years\"\n",
    "        \n",
    "    layout = dict(\n",
    "        title = reason,\n",
    "        geo = dict(\n",
    "            showframe = False,\n",
    "            projection = {'type':'natural earth'}\n",
    "        )\n",
    "    )\n",
    "    choromap = go.Figure(data = [data],layout = layout)\n",
    "    iplot(choromap,validate=False)"
   ]
  },
  {
   "cell_type": "code",
   "execution_count": null,
   "id": "8f1a2939",
   "metadata": {},
   "outputs": [],
   "source": [
    "def printByReason(df,col):\n",
    "     ##Helper Function to find out the 3 most common motivation for attacks\n",
    "        \n",
    "    mostCommonReasons = df[col].value_counts().head(3)\n",
    "    mostCommonReasons = list(mostCommonReasons.index)\n",
    "    df = df[df[col].isin(mostCommonReasons)]\n",
    "    \n",
    "    for reason in mostCommonReasons:\n",
    "        tempDF = df[df[col]==reason]\n",
    "        tempDF = tempDF['country_txt'].value_counts()\n",
    "        tempDF = tempDF.reset_index()\n",
    "        plotWorldMap(tempDF,reason)"
   ]
  },
  {
   "cell_type": "code",
   "execution_count": null,
   "id": "e95a64c9",
   "metadata": {
    "scrolled": false
   },
   "outputs": [],
   "source": [
    "tempDF = df['country_txt'].value_counts()\n",
    "tempDF = tempDF.reset_index()\n",
    "plotWorldMap(tempDF) #Generic Plot\n",
    "printByReason(df,'attacktype1_txt')#Plot by Reasons for attacks \n"
   ]
  },
  {
   "cell_type": "code",
   "execution_count": null,
   "id": "ef5e004a",
   "metadata": {},
   "outputs": [],
   "source": [
    "#Plot by Loss Value\n",
    "tempDF = df.groupby('country_txt')\n",
    "tempDF = tempDF['propvalue'].sum()\n",
    "tempDF=tempDF.reset_index()\n",
    "tempDF.columns=['index','country_txt']\n",
    "plotWorldMap(tempDF,'Losses Borne')"
   ]
  },
  {
   "cell_type": "markdown",
   "id": "1d89a0a9",
   "metadata": {},
   "source": [
    "# Section 2 - Generic Trends and DecadeWise Analysis"
   ]
  },
  {
   "cell_type": "markdown",
   "id": "7dbf6ece",
   "metadata": {},
   "source": [
    "## Generic Trend of Events from 1980 - 2017"
   ]
  },
  {
   "cell_type": "code",
   "execution_count": null,
   "id": "31b5348d",
   "metadata": {},
   "outputs": [],
   "source": [
    "##Plots count of events across various years\n",
    "plt.figure(figsize=(18,9))\n",
    "df1 = df['iyear'].value_counts()\n",
    "sns.lineplot(data=df1,palette='coolwarm')\n",
    "plt.xlabel('Year',fontsize=15)\n",
    "plt.ylabel('Number of Events',fontsize=15)"
   ]
  },
  {
   "cell_type": "markdown",
   "id": "c39f9ea2",
   "metadata": {},
   "source": [
    "## Decadewise Analysis "
   ]
  },
  {
   "cell_type": "markdown",
   "id": "6f306d7c",
   "metadata": {},
   "source": [
    "### Helper Functions  "
   ]
  },
  {
   "cell_type": "code",
   "execution_count": null,
   "id": "9a487024",
   "metadata": {},
   "outputs": [],
   "source": [
    "def plotEvents(tempDF,hue):\n",
    "    ##Helper Function to Plot Events\n",
    "    plt.figure(figsize=(18,6))\n",
    "    p=sns.countplot(x='iyear',data=tempDF,hue=hue,palette='coolwarm')\n",
    "    p.set_xlabel(\"Year\",fontsize=15)\n",
    "    p.set_ylabel(\"No. of Events\",fontsize=15)\n",
    "    plt.legend(bbox_to_anchor=(1.05, 1), loc=2, borderaxespad=0.) #Relocates the legend.\n",
    "    plt.show();"
   ]
  },
  {
   "cell_type": "code",
   "execution_count": null,
   "id": "76490b27",
   "metadata": {},
   "outputs": [],
   "source": [
    "def printData(tempDF,hue):\n",
    "        #Helper function to Print the Decade and decreasing order of events \n",
    "        ##and Selects top 5 motives/victims across each decade.\n",
    "        \n",
    "        print(color.BOLD+\"Years {}-{}\".format(tempDF['iyear'].min(),tempDF['iyear'].max())+color.END)\n",
    "        x=tempDF[hue].value_counts().head(5)\n",
    "        indexValues = list(x.index.values)\n",
    "        s=\"\"\n",
    "        i=1\n",
    "        \n",
    "        for index in indexValues:\n",
    "            x = \" {}. \".format(i)\n",
    "            i=i+1\n",
    "            s=s+x+index\n",
    "        print(color.BOLD+\"Decreasing Order- {}\".format(s)+color.END)\n",
    "        print(color.BOLD+ \"Most Fatal Year is {}\".format(tempDF['iyear'].value_counts().idxmax())+color.END)\n",
    "        \n",
    "        tempDF=tempDF[tempDF[hue].isin(indexValues)]\n",
    "        return tempDF"
   ]
  },
  {
   "cell_type": "code",
   "execution_count": null,
   "id": "a5312bfb",
   "metadata": {},
   "outputs": [],
   "source": [
    "def decadeWise(df,hue):\n",
    "    #Helper function for decade wise analysis.Display only top 5 reasons.\n",
    "     x = 1980 \n",
    "     y = 1990\n",
    "    \n",
    "     for i in range(4):\n",
    "        tempDF = df[(df['iyear']>=x) & (df['iyear']<y)]\n",
    "        tempDF=printData(tempDF,hue)\n",
    "        plotEvents(tempDF,hue)\n",
    "        x=x+10\n",
    "        y=y+10"
   ]
  },
  {
   "cell_type": "markdown",
   "id": "51cb966a",
   "metadata": {},
   "source": [
    "## a) By motives for Attacks"
   ]
  },
  {
   "cell_type": "code",
   "execution_count": null,
   "id": "838e5e2e",
   "metadata": {},
   "outputs": [],
   "source": [
    "decadeWise(df,hues[0])"
   ]
  },
  {
   "cell_type": "markdown",
   "id": "bfc9aec1",
   "metadata": {},
   "source": [
    "## b) By Victims of Attacks"
   ]
  },
  {
   "cell_type": "code",
   "execution_count": null,
   "id": "1c65a886",
   "metadata": {},
   "outputs": [],
   "source": [
    "decadeWise(df,hues[1])"
   ]
  },
  {
   "cell_type": "markdown",
   "id": "053bae2f",
   "metadata": {},
   "source": [
    "### Helper Functions for Damage Analysis"
   ]
  },
  {
   "cell_type": "code",
   "execution_count": null,
   "id": "2db6302f",
   "metadata": {},
   "outputs": [],
   "source": [
    "##Remove Cells not having data on Property Damage Value and their extent.\n",
    "propertyDF = df[(df['propextent_txt'].notna()) & (df['propvalue'].notna()) ]\n",
    "majorEvents = df['propextent_txt'].unique()[3:]"
   ]
  },
  {
   "cell_type": "code",
   "execution_count": null,
   "id": "499612e8",
   "metadata": {},
   "outputs": [],
   "source": [
    "#Get A list of Catastrophic and Worst Years in the decade.\n",
    "#Catastrophic Events - Loss of more than 1 Billion USD.\n",
    "#Major Property Damage - Loss of more than 1 Million USD but less than 1 Billion USD\n",
    "\n",
    "def prettyPrint(years):\n",
    "    \n",
    "    ##Helper Function to print years\n",
    "    years=years.sort_values()\n",
    "    ans =\"\"\n",
    "    for year in years:\n",
    "        ans=ans+\" \"+str(year)+\",\"\n",
    "        \n",
    "    ans=ans[:len(ans)-1]\n",
    "    print(color.BOLD+\"{}\".format(ans)+color.END)\n",
    "    \n",
    "    \n",
    "def getWorstYearsbyDamage(tempDF,col1='propextent_txt'):\n",
    "    \n",
    "    ##Helper Function to determine years of heavy damage.\n",
    "    df2 = tempDF[tempDF[col1]==majorEvents[1]]\n",
    "    worstYears=df2['iyear'].value_counts()\n",
    "    \n",
    "    if(worstYears.size>0):\n",
    "        worstYears = worstYears.index\n",
    "        print(color.BOLD+\"Years having catastrophic property damage:\"+color.END,end=\"\")\n",
    "        prettyPrint(worstYears)\n",
    "    \n",
    "    df2=tempDF[tempDF[col1]==majorEvents[0]]\n",
    "    worstYears=df2['iyear'].value_counts()\n",
    "    \n",
    "    if(worstYears.size>0):\n",
    "        worstYears = worstYears.index\n",
    "        print(color.BOLD+\"Years having major property damage:\"+color.END,end=\"\")\n",
    "        prettyPrint(worstYears)"
   ]
  },
  {
   "cell_type": "code",
   "execution_count": null,
   "id": "e1db5c90",
   "metadata": {},
   "outputs": [],
   "source": [
    "def plotLoss(tempDF,col1,col2):\n",
    "    \n",
    "    ## Helper Function to plot total loss across the decade and also to bifurcate on the basis\n",
    "    ## of severity of the events.\n",
    "    \n",
    "    #Amount of loss is summation of col1 and \n",
    "    #Types of incidents are indicated by col2\n",
    "    year_max =tempDF['iyear'].max()\n",
    "    year_min =tempDF['iyear'].min()\n",
    "        \n",
    "    tempDF.loc[:,[col1]]/=1e6\n",
    "    \n",
    "    totalDamage = tempDF[col1].sum()\n",
    "    \n",
    "    print(color.BOLD+\"Decade Summary\"+color.END)\n",
    "    print(color.BOLD+\"Years: {}-{}\".format(year_min,year_max)+color.END)\n",
    "    print(color.BOLD+\"Total Damage is {} million $\".format(round(totalDamage,2)))\n",
    "    \n",
    "    #Find Catastrophic and Major Events Years.\n",
    "    \n",
    "    getWorstYearsbyDamage(tempDF)\n",
    "    \n",
    "    plt.figure(figsize=(15,6))\n",
    "    p=sns.countplot(x='iyear',data=tempDF,hue=col2,palette='coolwarm')\n",
    "    plt.legend(bbox_to_anchor=(1.05, 1), loc=2, borderaxespad=0.) #Relocates the legend.\n",
    "    p.set_ylabel(\"Frequency\",fontsize=15)\n",
    "    p.set_xlabel(\"Years\",fontsize=15)\n",
    "    title =\"Classification by Severity\"\n",
    "    p.set_title(title,fontsize=18)\n",
    "    plt.show()\n",
    "    \n",
    "    \n",
    "    #Plot loss across the decade.\n",
    "    \n",
    "    plt.figure(figsize=(12.5,6))\n",
    "    title =\"Loss Across the Decade\"\n",
    "    \n",
    "        \n",
    "    tempDF = tempDF[[\"propextent_txt\",\"propvalue\",\"iyear\",\"country_txt\"]]\n",
    "    tempDF=tempDF[tempDF[\"propvalue\"].notna()]\n",
    "    \n",
    "    newDF = tempDF.groupby(\"iyear\")\n",
    "    newDF = newDF[\"propvalue\"].sum()\n",
    "    \n",
    "    p=sns.lineplot(data=newDF,palette='coolwarm')\n",
    "    \n",
    "    p.set_title(title,fontsize=18)\n",
    "    p.set_xlabel(\"Years\",fontsize=15)\n",
    "    p.set_ylabel(\"Amount in Million USD\",fontsize=15)\n",
    "    plt.show()"
   ]
  },
  {
   "cell_type": "code",
   "execution_count": null,
   "id": "0663c9c8",
   "metadata": {},
   "outputs": [],
   "source": [
    "def propDamageDecadeWise(tempDF,col1,col2):\n",
    "    #Helper Function to plot damage decadewise\n",
    "    x=1980\n",
    "    y=1990\n",
    "    \n",
    "    for i in range(4):\n",
    "        tempDF1 = tempDF[(tempDF['iyear']>=x) & (tempDF['iyear']<y)]\n",
    "        plotLoss(tempDF1,col1,col2)\n",
    "        x=x+10\n",
    "        y=y+10"
   ]
  },
  {
   "cell_type": "markdown",
   "id": "e4c23b86",
   "metadata": {},
   "source": [
    "## c) By Decadewise Loss"
   ]
  },
  {
   "cell_type": "code",
   "execution_count": null,
   "id": "22cd9210",
   "metadata": {
    "scrolled": false
   },
   "outputs": [],
   "source": [
    "propDamageDecadeWise(propertyDF,'propvalue','propextent_txt')"
   ]
  },
  {
   "cell_type": "markdown",
   "id": "8a8320d6",
   "metadata": {},
   "source": [
    "## d) Comparison of most common motives and victims"
   ]
  },
  {
   "cell_type": "code",
   "execution_count": null,
   "id": "fb1c178c",
   "metadata": {},
   "outputs": [],
   "source": [
    "def getCount(df,attackType,victimType):\n",
    "    #Helper Function to return count of a certain attack type and victim type\n",
    "    df = df[(df[hues[0]]==attackType) & \n",
    "           (df[hues[1]]==victimType)]\n",
    "    df.head\n",
    "    return len(df.axes[0])"
   ]
  },
  {
   "cell_type": "code",
   "execution_count": null,
   "id": "2672445b",
   "metadata": {},
   "outputs": [],
   "source": [
    "#Finding the 5 most common victims and motives for attacks\n",
    "x = df[hues[0]].value_counts()\n",
    "x=x.head()\n",
    "rowIndex = list(x.index.values)\n",
    "\n",
    "y= df[hues[1]].value_counts()\n",
    "y=y.head()\n",
    "colIndex = list(y.index.values)"
   ]
  },
  {
   "cell_type": "code",
   "execution_count": null,
   "id": "250515b9",
   "metadata": {},
   "outputs": [],
   "source": [
    "#Forming the Dataframe with reasons and victims.\n",
    "tempDF = pd.DataFrame(index = rowIndex,columns=colIndex)\n",
    "for i in range(5):\n",
    "    for j in range(5):\n",
    "        rowName = rowIndex[i]\n",
    "        colName = colIndex[j]\n",
    "        tempDF.iloc[i][colName]=getCount(df,rowName,colName)\n",
    "\n",
    "tempDF.head()"
   ]
  },
  {
   "cell_type": "code",
   "execution_count": null,
   "id": "1e0d772c",
   "metadata": {},
   "outputs": [],
   "source": [
    "#Plot each column one by one with it's reason.\n",
    "for col in colIndex:\n",
    "    plt.figure(figsize=(15,5))\n",
    "    p=sns.barplot(x=rowIndex,y=col,data=tempDF,palette='coolwarm')\n",
    "    p.set_title(col,fontsize =18)\n",
    "    p.set_ylabel(\"\")\n",
    "    plt.show()"
   ]
  },
  {
   "cell_type": "markdown",
   "id": "1999895a",
   "metadata": {},
   "source": [
    "# Section 3 - Case Study Comparing Data of USA, China and India."
   ]
  },
  {
   "cell_type": "code",
   "execution_count": null,
   "id": "b46cd37e",
   "metadata": {},
   "outputs": [],
   "source": [
    "#Forming a dataframe having only relevant countries\n",
    "#DataFrame has data only for USA, Russia, China and India.\n",
    "\n",
    "countries = [\"United States\",\"Russia\",\"India\"]\n",
    "countryWiseDF = df[df[\"country_txt\"].isin(countries)]"
   ]
  },
  {
   "cell_type": "markdown",
   "id": "45d73874",
   "metadata": {},
   "source": [
    "## a) Comparing Number of Events Across the Decades"
   ]
  },
  {
   "cell_type": "code",
   "execution_count": null,
   "id": "83b1f10f",
   "metadata": {},
   "outputs": [],
   "source": [
    "decadeWise(countryWiseDF,'country_txt')"
   ]
  },
  {
   "cell_type": "markdown",
   "id": "b81eca0d",
   "metadata": {},
   "source": [
    "### Helper Functions "
   ]
  },
  {
   "cell_type": "code",
   "execution_count": null,
   "id": "f2165fe0",
   "metadata": {},
   "outputs": [],
   "source": [
    "def plotReasons(tempDF,col):\n",
    "    #Helper Function to plot country wise data according to the column passed in.\n",
    "    \n",
    "    if(col==hues[0]):\n",
    "        title =\"Motives for Attacks\"\n",
    "    elif col==hues[1]:\n",
    "        title=\"Victims\"\n",
    "    else:\n",
    "        title = \"Weapons Used\"\n",
    "    \n",
    "    newDF = tempDF[col].value_counts()\n",
    "    newDF = list(newDF.index)[:6]\n",
    "    tempDF = tempDF[tempDF[col].isin(newDF)]\n",
    "    \n",
    "    plt.figure(figsize=(16,8))\n",
    "    p=sns.countplot(x=col,data=tempDF,hue=\"country_txt\",palette='coolwarm')\n",
    "    \n",
    "    plt.legend(bbox_to_anchor=(1.05, 1), loc=2, borderaxespad=0.) #Relocates the legend\n",
    "    p.set_title(title,fontsize=18)\n",
    "    p.set_ylabel(\"Number of Attacks\",fontsize=15)\n",
    "    p.set_xlabel(\"\")\n",
    "    plt.show()"
   ]
  },
  {
   "cell_type": "markdown",
   "id": "c14cfb86",
   "metadata": {},
   "source": [
    "## b) Comparing Motives,Victims and Weapons used across the three countries "
   ]
  },
  {
   "cell_type": "code",
   "execution_count": null,
   "id": "cf1f1083",
   "metadata": {},
   "outputs": [],
   "source": [
    "plotReasons(countryWiseDF,hues[0])\n",
    "plotReasons(countryWiseDF,hues[1])\n",
    "plotReasons(countryWiseDF,\"weaptype1_txt\")"
   ]
  },
  {
   "cell_type": "markdown",
   "id": "f493ac74",
   "metadata": {},
   "source": [
    "## c) Losses Borne by them."
   ]
  },
  {
   "cell_type": "code",
   "execution_count": null,
   "id": "ca7872e0",
   "metadata": {},
   "outputs": [],
   "source": [
    "def plotLossTogether(tempDF): \n",
    "\n",
    "    ## Helper Function to plot losses of all three nations across the time span\n",
    "    \n",
    "    tempDF = tempDF[[\"propvalue\",\"iyear\",\"country_txt\"]]\n",
    "    tempDF = tempDF.groupby([\"country_txt\",\"iyear\"])\n",
    "    tempDF = tempDF['propvalue'].sum()\n",
    "    \n",
    "    tempDF = tempDF.reset_index()\n",
    "    tempDF.columns=['Country','Year','Value']\n",
    "\n",
    "    plt.figure(figsize=(16,8))\n",
    "    p=sns.lineplot(x='Year',y='Value',hue='Country',data=tempDF,palette='coolwarm')\n",
    "    p.set_ylabel(\"Amount in 100 M USD\",fontsize=15)\n",
    "    p.set_xlabel(\"Years\",fontsize=15)\n",
    "    p.set_title(\"Losses Borne\",fontsize=18)\n",
    "    plt.show()"
   ]
  },
  {
   "cell_type": "code",
   "execution_count": null,
   "id": "eddb23a6",
   "metadata": {},
   "outputs": [],
   "source": [
    "plotLossTogether(countryWiseDF)"
   ]
  },
  {
   "cell_type": "markdown",
   "id": "508d3e38",
   "metadata": {},
   "source": [
    "## Individual Losses Across the Decades"
   ]
  },
  {
   "cell_type": "code",
   "execution_count": null,
   "id": "604d328b",
   "metadata": {},
   "outputs": [],
   "source": [
    "def plotLossCountry(tempDF,col1,countryName):\n",
    "    \n",
    "    #Helper Function for plotting loss country wise\n",
    "    \n",
    "    tempDF.loc[:,[col1]]/=1e6    \n",
    "    totalDamage = tempDF[col1].sum()\n",
    "   \n",
    "    print(color.BOLD+\"Total Loss borne by {} is {} million $\".format(countryName,round(totalDamage,2)))\n",
    "    \n",
    "    tempDF = tempDF[[col1,\"iyear\",\"country_txt\"]]\n",
    "    tempDF=tempDF[tempDF[\"propvalue\"].notna()]\n",
    "    \n",
    "    newDF = tempDF.groupby(\"iyear\")\n",
    "    newDF = newDF[\"propvalue\"].sum()\n",
    "    \n",
    "    plt.figure(figsize=(15,6)) \n",
    "    title =\"Loss Across the Years for {}\".format(countryName)\n",
    "    \n",
    "    p=sns.lineplot(data=newDF,palette='coolwarm')\n",
    "    p.set_title(title,fontsize=18)\n",
    "    p.set_xlabel(\"Years\",fontsize=15)\n",
    "    p.set_ylabel(\"Amount in Million USD\",fontsize=15)\n",
    "    plt.show()"
   ]
  },
  {
   "cell_type": "code",
   "execution_count": null,
   "id": "0da56605",
   "metadata": {},
   "outputs": [],
   "source": [
    "for country in countries:\n",
    "        tempDF=countryWiseDF[countryWiseDF[\"country_txt\"]==country]\n",
    "        plotLossCountry(tempDF,\"propvalue\",country)"
   ]
  },
  {
   "cell_type": "markdown",
   "id": "ae81a439",
   "metadata": {},
   "source": [
    "\n",
    "# Thank You !!!"
   ]
  },
  {
   "cell_type": "code",
   "execution_count": null,
   "id": "2c41601d",
   "metadata": {},
   "outputs": [],
   "source": []
  }
 ],
 "metadata": {
  "kernelspec": {
   "display_name": "Python 3.9.13 64-bit (windows store)",
   "language": "python",
   "name": "python3"
  },
  "language_info": {
   "codemirror_mode": {
    "name": "ipython",
    "version": 3
   },
   "file_extension": ".py",
   "mimetype": "text/x-python",
   "name": "python",
   "nbconvert_exporter": "python",
   "pygments_lexer": "ipython3",
   "version": "3.9.13"
  },
  "vscode": {
   "interpreter": {
    "hash": "43a24ecce625020f2d6631fb4cfb730bba30d877e9fe9ec2e0d85cb5a52a2b64"
   }
  }
 },
 "nbformat": 4,
 "nbformat_minor": 5
}
